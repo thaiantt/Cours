{
 "cells": [
  {
   "cell_type": "markdown",
   "metadata": {},
   "source": [
    "# Correction (Joseph Salmon)"
   ]
  },
  {
   "cell_type": "code",
   "execution_count": 2,
   "metadata": {
    "collapsed": false
   },
   "outputs": [
    {
     "ename": "NameError",
     "evalue": "name 'sns' is not defined",
     "output_type": "error",
     "traceback": [
      "\u001b[0;31m---------------------------------------------------------------------------\u001b[0m",
      "\u001b[0;31mNameError\u001b[0m                                 Traceback (most recent call last)",
      "\u001b[0;32m<ipython-input-2-ae5b35d709e2>\u001b[0m in \u001b[0;36m<module>\u001b[0;34m()\u001b[0m\n\u001b[1;32m     15\u001b[0m \u001b[0;32mimport\u001b[0m \u001b[0msys\u001b[0m\u001b[0;34m\u001b[0m\u001b[0m\n\u001b[1;32m     16\u001b[0m \u001b[0;34m\u001b[0m\u001b[0m\n\u001b[0;32m---> 17\u001b[0;31m \u001b[0msns\u001b[0m\u001b[0;34m.\u001b[0m\u001b[0mset_palette\u001b[0m\u001b[0;34m(\u001b[0m\u001b[0;34m\"colorblind\"\u001b[0m\u001b[0;34m)\u001b[0m\u001b[0;34m\u001b[0m\u001b[0m\n\u001b[0m\u001b[1;32m     18\u001b[0m \u001b[0mcolor_blind_list\u001b[0m \u001b[0;34m=\u001b[0m \u001b[0msns\u001b[0m\u001b[0;34m.\u001b[0m\u001b[0mcolor_palette\u001b[0m\u001b[0;34m(\u001b[0m\u001b[0;34m\"colorblind\"\u001b[0m\u001b[0;34m,\u001b[0m \u001b[0;36m8\u001b[0m\u001b[0;34m)\u001b[0m\u001b[0;34m\u001b[0m\u001b[0m\n",
      "\u001b[0;31mNameError\u001b[0m: name 'sns' is not defined"
     ]
    }
   ],
   "source": [
    "%matplotlib notebook\n",
    "import math                         # import a package\n",
    "import numpy as np                  # import a package with specified name\n",
    "from sklearn import linear_model    # import whole module\n",
    "from os import mkdir, rmdir, path   # import a function\n",
    "from inspect import getsourcelines  # get function source code\n",
    "import random\n",
    "import string\n",
    "import time\n",
    "import pandas as pd\n",
    "import urllib\n",
    "import zipfile\n",
    "import matplotlib.pyplot as plt     # for plots\n",
    "import seaborn as sns               # for plots\n",
    "import sys\n",
    "\n",
    "sns.set_palette(\"colorblind\")\n",
    "color_blind_list = sns.color_palette(\"colorblind\", 8)"
   ]
  },
  {
   "cell_type": "markdown",
   "metadata": {},
   "source": [
    "# 1) Introduction: Python, Numpy et Scipy"
   ]
  },
  {
   "cell_type": "markdown",
   "metadata": {},
   "source": [
    "## Question 1: \n",
    "Écrire une fonction ```nextpower``` qui calcule la première puissance de 2 supérieure ou égale à un nombre $n$ (on veillera a ce que le type de sortie soit un <font color='red'>**int**</font>, tester cela avec <font color='red'>**type**</font> par exemple)."
   ]
  },
  {
   "cell_type": "code",
   "execution_count": null,
   "metadata": {
    "collapsed": false
   },
   "outputs": [],
   "source": [
    "# Two possible solutions, non-exhaustive (but check at least on different values that they give the same results)\n",
    "def nextpower(n):\n",
    "    \"\"\"Compute the next power of 2 of n.\"\"\"\n",
    "    return int(2 ** (math.ceil(math.log(n, 2))))\n",
    "\n",
    "\n",
    "def nextpowerbis(n):\n",
    "    \"\"\"Compute the next power of 2 of n.\"\"\"\n",
    "    sol = 1\n",
    "    while sol < n:\n",
    "        sol *= 2\n",
    "    return sol"
   ]
  },
  {
   "cell_type": "code",
   "execution_count": null,
   "metadata": {
    "collapsed": false
   },
   "outputs": [],
   "source": [
    "print(nextpower(15))\n",
    "print(nextpowerbis(15))\n",
    "print(type(nextpower(15)))\n",
    "print(type(nextpowerbis(15)))\n",
    "\n",
    "t = time.time()\n",
    "print(nextpower(1020000))\n",
    "print(time.time() - t)\n",
    "\n",
    "t = time.time()\n",
    "print(nextpowerbis(1020000))\n",
    "print(time.time() - t)\n"
   ]
  },
  {
   "cell_type": "markdown",
   "metadata": {},
   "source": [
    "## Question 2:\n",
    "En partant du mot contenant toutes les lettres de l'alphabet, générer par une opération de *slicing* la chaîne de caractère ```cfilorux``` et, de deux façons différentes, la chaîne de caractère ```vxz```."
   ]
  },
  {
   "cell_type": "code",
   "execution_count": null,
   "metadata": {
    "collapsed": false
   },
   "outputs": [],
   "source": [
    "alphabet = string.ascii_lowercase\n",
    "print(alphabet[2:25:3])\n",
    "print(alphabet[21:26:2])\n",
    "print(alphabet[-5::2])\n"
   ]
  },
  {
   "cell_type": "markdown",
   "metadata": {},
   "source": [
    "## Question 3:\n",
    "Afficher le nombre $\\pi$ avec 9 décimales après la virgule."
   ]
  },
  {
   "cell_type": "code",
   "execution_count": null,
   "metadata": {
    "collapsed": false
   },
   "outputs": [],
   "source": [
    "s = \"Le nombre %s est égal à %.9f\"\n",
    "print(s % (\"pi\", math.pi))"
   ]
  },
  {
   "cell_type": "markdown",
   "metadata": {},
   "source": [
    "## Question 4:\n",
    "Compter le nombre d’occurrences de chaque caractère dans la chaîne de caractères ```s=\"HelLo WorLd!!\" ```. On renverra un dictionnaire qui à chaque lettre associe son nombre d’occurrences."
   ]
  },
  {
   "cell_type": "code",
   "execution_count": null,
   "metadata": {
    "collapsed": false
   },
   "outputs": [],
   "source": [
    "s_new = \"HelLo WorLd!!\"\n",
    "params = {}\n",
    "\n",
    "for letter in s_new:\n",
    "    # print(letter)\n",
    "    if letter not in params:\n",
    "        params[letter] = 1\n",
    "    else:\n",
    "        params[letter] += 1\n",
    "        \n",
    "print(params)"
   ]
  },
  {
   "cell_type": "markdown",
   "metadata": {},
   "source": [
    "## Question 5:\n",
    "Écrire une fonction de codage par inversion de lettres (aussi connu sous le nom de code de César): chaque lettre d'un mot est remplacée par une (et une seule) autre. On se servira de la fonction ```shuffle``` sur la chaîne de caractère contenant tout l'alphabet."
   ]
  },
  {
   "cell_type": "code",
   "execution_count": null,
   "metadata": {
    "collapsed": false
   },
   "outputs": [],
   "source": [
    "alphabet = string.ascii_letters\n",
    "print(alphabet)\n",
    "type(alphabet)"
   ]
  },
  {
   "cell_type": "code",
   "execution_count": null,
   "metadata": {
    "collapsed": false
   },
   "outputs": [],
   "source": [
    "indexes = list(range(len(alphabet)))\n",
    "random.shuffle(indexes)\n",
    "\n",
    "rosette_forward = {}\n",
    "rosette_backward = {}\n",
    "for i, letter in enumerate(alphabet):\n",
    "    rosette_forward[letter] = alphabet[indexes[i]]\n",
    "    rosette_backward[alphabet[indexes[i]]] = letter\n",
    "\n",
    "rosette_forward[\" \"] = \" \"\n",
    "rosette_backward[\" \"] = \" \""
   ]
  },
  {
   "cell_type": "code",
   "execution_count": null,
   "metadata": {
    "collapsed": false
   },
   "outputs": [],
   "source": [
    "def coding(message, rosette, alphabet):\n",
    "    \"\"\"encodage\"\"\"\n",
    "    message_coded = \"\"\n",
    "    for i, letter in enumerate(message):\n",
    "        if letter in alphabet:\n",
    "            message_coded += rosette[letter]\n",
    "        else:\n",
    "            message_coded += letter\n",
    "    message_coded = message_coded\n",
    "    return message_coded\n",
    "\n",
    "\n",
    "message = \"Tu les crois malades? Ça gémit ça rote... ça titube...\" \\\n",
    "    \"ça pustule... Tu veux vider ta salle d'attente? Instantanément? \" \\\n",
    "    \"même de ceux qui s'en étranglent à se ramoner les glaviots ?...\" \\\n",
    "    \"Propose un coup de cinéma!... un apéro gratuit en face!... \" \\\n",
    "    \"tu vas voir combien qu'il t'en reste...S'ils viennent te relancer \" \\\n",
    "    \"c'est d'abord parce qu'ils s'emmerdent. \" \\\n",
    "    \"T'en vois pas un la veille des fêtes...\"\n",
    "\n",
    "# message = \"Tu les crois malades ?\".decode('utf8')\n",
    "print(\"Message original:\\n\" + message + \"\\n\")\n",
    "message_encoded = coding(message, rosette_forward, alphabet)\n",
    "print(\"Message codé:\" + \"\\n\"+ message_encoded + \"\\n\")\n",
    "message_decoded = coding(message_encoded, rosette_backward, alphabet)\n",
    "print(\"Message décodé:\" + \"\\n\"+ message_decoded  + \"\\n\")\n",
    "print(\"Est ce que le message décodé est identique à l'original? \" + str(message_decoded==message) )\n"
   ]
  },
  {
   "cell_type": "markdown",
   "metadata": {},
   "source": [
    "PS: un peu de lecture sur l'utf8: http://sametmax.com/lencoding-en-python-une-bonne-fois-pour-toute/"
   ]
  },
  {
   "cell_type": "markdown",
   "metadata": {},
   "source": [
    "## Question 6:\n",
    "Calculer $ 2 \\displaystyle\\prod_{k=1}^{\\infty}\\frac{4 k^2}{4k^2-1}$ efficacement. On pourra utiliser ```time``` (ou ```%timeit``` pour déterminer la rapidité de votre méthode. Proposer une version sans boucle utilisant ```Numpy```."
   ]
  },
  {
   "cell_type": "code",
   "execution_count": null,
   "metadata": {
    "collapsed": false
   },
   "outputs": [],
   "source": [
    "def wallis1(n):\n",
    "    \"\"\"Wallis: naive version.\"\"\"\n",
    "    result = 2.\n",
    "    for k in range(1, n + 1, 1):\n",
    "        result *= 4. * k ** 2 / (4. * k ** 2. - 1.)\n",
    "    return result\n",
    "\n",
    "def wallis2(n):\n",
    "    \"\"\"Wallis: better version.\"\"\"\n",
    "    result = 2.\n",
    "    for k in range(1, n + 1, 1):\n",
    "        int = 4 * k ** 2\n",
    "        result *= int / (int - 1.)\n",
    "    return result\n",
    "\n",
    "\n",
    "def wallis3(n):\n",
    "    \"\"\"Wallis: lame version.\"\"\"\n",
    "    if n == 1:\n",
    "        return 8. / 3.\n",
    "    else:\n",
    "        sqrpart = 4 * n ** 2\n",
    "        return (sqrpart / (sqrpart - 1.) * wallis3(n - 1))\n",
    "print(wallis3(50))\n",
    "\n",
    "\n",
    "memo = {1: 8. / 3.}\n",
    "\n",
    "\n",
    "def wallis4(n):\n",
    "    \"\"\"Wallis: storage version.\"\"\"\n",
    "    sqrpart = 4 * n ** 2\n",
    "    if n not in memo:\n",
    "        memo[n] = wallis4(n - 1) * sqrpart / (sqrpart - 1)\n",
    "    return memo[n]\n",
    "\n",
    "t = time.time()\n",
    "print(wallis4(50))\n",
    "print(time.time() - t)\n",
    "\n",
    "\n",
    "def wallis5(n):\n",
    "    \"\"\"Wallis: no loop version.\"\"\"\n",
    "    sol = np.arange(1, n + 1)\n",
    "    sol = sol ** 2\n",
    "    sol = 4. * sol / (4. * sol - 1.)\n",
    "    return 2 * np.prod(sol)\n",
    "\n"
   ]
  },
  {
   "cell_type": "code",
   "execution_count": null,
   "metadata": {
    "collapsed": false
   },
   "outputs": [],
   "source": [
    "print(\"Wallis version 1\")\n",
    "t = time.time()\n",
    "print(wallis1(500))\n",
    "print(time.time() - t)\n",
    "\n",
    "print(\"Wallis version 2\")\n",
    "t = time.time()\n",
    "print(wallis2(500))\n",
    "print(time.time() - t)\n",
    "\n",
    "print(\"Wallis version 3\")\n",
    "t = time.time()\n",
    "print(wallis3(500))\n",
    "print(time.time() - t)\n",
    "\n",
    "print(\"Wallis version 4\")\n",
    "t = time.time()\n",
    "print(wallis4(500))\n",
    "print(time.time() - t)\n",
    "\n",
    "print(\"Wallis version 5\")\n",
    "t = time.time()\n",
    "print(wallis5(500))\n",
    "print(time.time() - t)"
   ]
  },
  {
   "cell_type": "markdown",
   "metadata": {},
   "source": [
    "Les commandes \"magic\" de type %timeit dans Jupyter peuvent aussi s'averer utiles:"
   ]
  },
  {
   "cell_type": "code",
   "execution_count": null,
   "metadata": {
    "collapsed": false
   },
   "outputs": [],
   "source": [
    "%timeit wallis1(500)"
   ]
  },
  {
   "cell_type": "code",
   "execution_count": null,
   "metadata": {
    "collapsed": false
   },
   "outputs": [],
   "source": [
    "%timeit wallis2(500)"
   ]
  },
  {
   "cell_type": "code",
   "execution_count": null,
   "metadata": {
    "collapsed": false
   },
   "outputs": [],
   "source": [
    "%timeit wallis3(500)"
   ]
  },
  {
   "cell_type": "code",
   "execution_count": null,
   "metadata": {
    "collapsed": false
   },
   "outputs": [],
   "source": [
    "%timeit wallis4(500)"
   ]
  },
  {
   "cell_type": "code",
   "execution_count": null,
   "metadata": {
    "collapsed": false
   },
   "outputs": [],
   "source": [
    "%timeit wallis5(500)"
   ]
  },
  {
   "cell_type": "markdown",
   "metadata": {},
   "source": [
    "## Conclusion: toute solution plus rapide que wallis4 et wallis5 est admissible."
   ]
  },
  {
   "cell_type": "markdown",
   "metadata": {},
   "source": [
    "## Question 7:\n",
    "Créer une fonction ```quicksort``` qui trie une liste, en remplissant les éléments manquants dans le code suivant. On testera que la fonction est correcte sur l'exemple ```quicksort([-2, 3, 5, 1, 3])```:"
   ]
  },
  {
   "cell_type": "code",
   "execution_count": null,
   "metadata": {
    "collapsed": false
   },
   "outputs": [],
   "source": [
    "def quicksort(ll):\n",
    "    \"\"\"A sorting function with a pivot value.\"\"\"\n",
    "    if len(ll) <= 1:\n",
    "        return ll\n",
    "    else:\n",
    "        pivot = ll.pop()\n",
    "        less = []\n",
    "        greater = []\n",
    "        for x in ll:\n",
    "            if x <= pivot:\n",
    "                less.append(x)\n",
    "            else:\n",
    "                greater.append(x)\n",
    "        return quicksort(less) + [pivot] + quicksort(greater)"
   ]
  },
  {
   "cell_type": "code",
   "execution_count": null,
   "metadata": {
    "collapsed": false
   },
   "outputs": [],
   "source": [
    "print(quicksort([-2, 3, 5, 1, 3]))"
   ]
  },
  {
   "cell_type": "markdown",
   "metadata": {},
   "source": [
    "## Question 8: \n",
    "Sans utiliser de boucles ```for / while ```:\n",
    "créer une matrice $M \\in \\mathbb{R}^{5\\times6}$ aléatoire à coefficients uniformes dans $[-1, 1]$, puis remplacer une colonne sur deux par sa valeur moins le double de la colonne suivante. Remplacer enfin les valeurs négatives par 0 en utilisant un masque binaire."
   ]
  },
  {
   "cell_type": "code",
   "execution_count": null,
   "metadata": {
    "collapsed": false
   },
   "outputs": [],
   "source": [
    "matrice = np.random.uniform(-1, 1, (5, 6))\n",
    "print(matrice)\n",
    "\n",
    "# second solution: column manipulation\n",
    "m_sol1 = matrice.copy()\n",
    "m_sol1[:, 0] = matrice[:, 0] - 2 * matrice[:, 1]\n",
    "m_sol1[:, 2] = matrice[:, 2] - 2 * matrice[:, 3]\n",
    "m_sol1[:, 4] = matrice[:, 4] - 2 * matrice[:, 5]\n",
    "# zeroing negative values\n",
    "m_sol1[m_sol1 <= 0] = 0\n",
    "print(m_sol1)\n",
    "print(m_sol1)"
   ]
  },
  {
   "cell_type": "code",
   "execution_count": null,
   "metadata": {
    "collapsed": false
   },
   "outputs": [],
   "source": [
    "# second solution: matrix multiplication.\n",
    "m_int = np.eye(6, 6)\n",
    "m_int[1, 0] = -2\n",
    "m_int[3, 2] = -2\n",
    "m_int[5, 4] = -2\n",
    "print(m_int)\n",
    "m_sol2 = matrice.dot(m_int)\n",
    "# zeroing negative values\n",
    "m_sol2[m_sol2 <= 0] = 0\n",
    "print(m_sol2)\n",
    "np.allclose(m_sol1, m_sol2)"
   ]
  },
  {
   "cell_type": "markdown",
   "metadata": {},
   "source": [
    "## Question 9:\n",
    "Créer une matrice $M \\in \\mathbb{R}^{5\\times 20}$ aléatoire à coefficients uniformes dans $[-1, 1]$. Tester que $G=M^\\top M$ est symétrique et que ses valeurs propres sont positives (on parle de alors de matrice définie positive). Quel est le rang de $G$?\n",
    "  \n",
    "**Aide**: on utilisera par exemple ```np.allclose, np.logical_not, np.all``` pour les tests numériques."
   ]
  },
  {
   "cell_type": "code",
   "execution_count": null,
   "metadata": {
    "collapsed": false
   },
   "outputs": [],
   "source": [
    "matrice = np.random.uniform(-1, 1, (5, 20))\n",
    "G = matrice.T.dot(matrice)\n",
    "print(np.allclose(G, G.T))\n",
    "\n",
    "# Bad solution: Remark that eig could give weird complex values...\n",
    "# this not satisfactory if the matrix G is known to be symmetric\n",
    "eig_val_bad, _ = np.linalg.eig(G)\n",
    "print(eig_val_bad)\n",
    "\n",
    "# solution 1: Remark that eig could give weird complex values...\n",
    "# this not satisfactory if the matrix G is known to be symmetric\n",
    "eig_val, _ = np.linalg.eigh(G)\n",
    "\n",
    "# solution 2: no need of eigenvectors\n",
    "eig_val = np.linalg.eigvalsh(G)\n",
    "\n",
    "idx = eig_val.argsort()[::-1]   \n",
    "print(eig_val[idx])\n"
   ]
  },
  {
   "cell_type": "code",
   "execution_count": null,
   "metadata": {
    "collapsed": false
   },
   "outputs": [],
   "source": [
    "# Beware some are numerically 0, but negative!\n",
    "# Hence we only store the one being non numercially zero (at relative precision 1e-12)\n",
    "nnz_eig = np.logical_not(np.isclose(eig_val, np.zeros(eig_val.shape), rtol=1e-12,))\n",
    "\n",
    "# positivity of non-zero eigenvalues:\n",
    "eig_nnz_val = eig_val[nnz_eig]\n",
    "print(\"The non-zero eigenvalues are:\" +  str(eig_nnz_val))\n",
    "print('Are all eigenvalues positive? That is ' + str(np.all(eig_nnz_val > 0)))"
   ]
  },
  {
   "cell_type": "code",
   "execution_count": null,
   "metadata": {
    "collapsed": false
   },
   "outputs": [],
   "source": [
    "# rank computation:\n",
    "rk = str(np.sum(nnz_eig))\n",
    "print('The rank is : ' + rk)\n",
    "print('The rank is also: ' + str(np.linalg.matrix_rank(G)))"
   ]
  },
  {
   "cell_type": "markdown",
   "metadata": {},
   "source": [
    "# 2)  Introduction: Pandas, Matplotlib, etc."
   ]
  },
  {
   "cell_type": "markdown",
   "metadata": {},
   "source": [
    "## Question 1:\n",
    "Chargement de la base de données. Détecter et dénombrer le nombre de lignes ayant des valeurs manquantes."
   ]
  },
  {
   "cell_type": "code",
   "execution_count": null,
   "metadata": {
    "collapsed": false
   },
   "outputs": [],
   "source": [
    "# download part if needed.\n",
    "url = u'https://archive.ics.uci.edu/ml/machine-learning-databases/00235/'\n",
    "filename = 'household_power_consumption'\n",
    "zipfilename = filename + '.zip'\n",
    "Location = url + zipfilename\n",
    "\n",
    "# testing existence of file:\n",
    "\n",
    "if sys.version_info >= (3, 0):\n",
    "    if not(path.isfile('zipfilename')):\n",
    "        urllib.request.urlretrieve(Location, zipfilename)\n",
    "else:\n",
    "    if not(path.isfile('zipfilename')):\n",
    "        urllib.urlretrieve(Location, zipfilename)\n",
    "\n",
    "# unzip part\n",
    "zip = zipfile.ZipFile(zipfilename)\n",
    "zip.extractall()"
   ]
  },
  {
   "cell_type": "code",
   "execution_count": null,
   "metadata": {
    "collapsed": false
   },
   "outputs": [],
   "source": [
    "# Detect and count lines with missing values.\n",
    "na_values = ['?', '']\n",
    "fields = ['Date', 'Time', 'Global_active_power']\n",
    "# Whole columns names:\n",
    "# Date;Time;Global_active_power;Global_reactive_power;Voltage;Global_intensity;Sub_metering_1;Sub_metering_2;Sub_metering_3\n",
    "\n",
    "df = pd.read_csv(filename + '.txt', sep=';', nrows=200000,\n",
    "                 na_values=na_values, usecols=fields)\n",
    "\n",
    "print(\"Are all values correct number? \" + str(np.all(pd.notnull(df['Global_active_power']))))\n",
    "\n",
    "# check example mentioned on the webpage:\n",
    "print(df.iloc[190500])\n",
    "\n",
    "null_data = df[df.isnull().any(axis=1)]\n",
    "\n",
    "print(\"There are \" + str(df.isnull().sum().sum()) + ' total missing values')\n",
    "print(\"There are \" + str(null_data.shape[0]) + ' lines with missing values')\n"
   ]
  },
  {
   "cell_type": "markdown",
   "metadata": {},
   "source": [
    "## Question 2:\n",
    "Supprimer toutes les lignes avec des valeurs manquantes."
   ]
  },
  {
   "cell_type": "code",
   "execution_count": null,
   "metadata": {
    "collapsed": false
   },
   "outputs": [],
   "source": [
    "# Removing the NaN:\n",
    "df = df.dropna(axis=0)\n",
    "# new size:\n",
    "print('The size without the NaNs is now ' + str(df.shape[0]))\n"
   ]
  },
  {
   "cell_type": "markdown",
   "metadata": {},
   "source": [
    "## Question 3:\n",
    " Utiliser ```to_datetime``` et ```set_index``` pour créer une Time Series (on prendra garde au format des\n",
    "dates internationales qui diffère du format français).\n"
   ]
  },
  {
   "cell_type": "code",
   "execution_count": null,
   "metadata": {
    "collapsed": false
   },
   "outputs": [],
   "source": [
    "# Using infer_datetime_format=True below helps for speed issues\n",
    "time_improved = pd.to_datetime(df['Date'] + ' ' + df['Time'], dayfirst=True,\n",
    "                               infer_datetime_format=True)\n",
    "\n",
    "df['DateTime'] = time_improved\n",
    "del df['Date']\n",
    "del df['Time']\n",
    "ts = df.set_index(['DateTime'])"
   ]
  },
  {
   "cell_type": "code",
   "execution_count": null,
   "metadata": {
    "collapsed": false
   },
   "outputs": [],
   "source": [
    "ts.head()"
   ]
  },
  {
   "cell_type": "markdown",
   "metadata": {},
   "source": [
    "## Question 4:\n",
    "Afficher le graphique des moyennes journalières entre le 1er janvier et le 30 avril 2007. Proposer une cause expliquant la consommation fin février et début avril. On pourra utiliser en plus de ```matplotlib``` le package ```seaborn``` pour améliorer le rendu visuel."
   ]
  },
  {
   "cell_type": "code",
   "execution_count": null,
   "metadata": {
    "collapsed": false
   },
   "outputs": [],
   "source": [
    "# # Plotting part\n",
    "# fig1 = plt.figure(figsize=(,4))\n",
    "# plt.plot(ts['Global_active_power'])\n",
    "# plt.xticks(rotation = 60)\n",
    "# plt.show()\n",
    "\n",
    "fig2 = plt.figure(figsize=(6,4))\n",
    "day_ini = '01/01/2007'\n",
    "day_end = '04/30/2007'\n",
    "small_ts = ts[day_ini:day_end]\n",
    "plt.plot(small_ts['Global_active_power'])\n",
    "plt.xticks(rotation = 60)\n",
    "plt.show()\n",
    "# NOTE: this is too dense to visualize correctly\n",
    "\n",
    "# grouping by day:\n",
    "fig3 = plt.figure(figsize=(6,4))\n",
    "day_ts = small_ts.groupby(pd.TimeGrouper(freq='1D')).sum()\n",
    "plt.plot(day_ts['Global_active_power'])\n",
    "plt.xticks(rotation = 60)\n",
    "plt.show()\n"
   ]
  },
  {
   "cell_type": "markdown",
   "metadata": {},
   "source": [
    "Les dates avec des creux semblent coïncider avec les vacances scolaires 2007, cf. http://cache.media.education.gouv.fr/file/83/6/5836.pdf"
   ]
  },
  {
   "cell_type": "markdown",
   "metadata": {},
   "source": [
    "## Question 5: \n",
    "Charger les données avec ```pandas```, et ne garder que les colonnes ```DATE``` et ```TG```.\n",
    "Diviser par 10 la colonne TG pour obtenir des températures en degrés Celsius.\n",
    "Traiter les éléments de température aberrants comme des ```NaN```."
   ]
  },
  {
   "cell_type": "code",
   "execution_count": null,
   "metadata": {
    "collapsed": false
   },
   "outputs": [],
   "source": [
    "colnames = ['    DATE', '   TG']\n",
    "my_loc = '../datasets/TG_STAID011249.txt' #change according to your settings \n",
    "temp_df = pd.read_csv(my_loc, sep=',', comment='#',\n",
    "                      usecols=colnames, na_values=\"-9999\")\n",
    "# note that NAN are coding with values -9999\n",
    "temp_df.columns = ['Date', 'Temperature']\n",
    "\n",
    "# need to get the correct temperature unit\n",
    "temp_df['Temperature'] = temp_df['Temperature'] / 10."
   ]
  },
  {
   "cell_type": "markdown",
   "metadata": {},
   "source": [
    "# Question 6:\n",
    "Créer une Time Series **pandas** des températures journalières entre le 1er janvier et le 30 avril 2007.\n",
    "Afficher sur un même graphique ces températures et la Time Series *Global_active_power*."
   ]
  },
  {
   "cell_type": "code",
   "execution_count": null,
   "metadata": {
    "collapsed": false
   },
   "outputs": [],
   "source": [
    "# need to correct the days format\n",
    "temp_df['Date'] = pd.to_datetime(temp_df['Date'], format='%Y%m%d')\n",
    "temp_ts = temp_df.set_index(['Date'])\n",
    "small_temp_ts = temp_ts[day_ini:day_end]"
   ]
  },
  {
   "cell_type": "code",
   "execution_count": null,
   "metadata": {
    "collapsed": false
   },
   "outputs": [],
   "source": [
    "fig, ax1 = plt.subplots()\n",
    "ax1.plot(small_temp_ts, '-', color=color_blind_list[0], label='Temperature')\n",
    "ax1.set_xlabel('time (s)')\n",
    "# Make the y-axis label and tick labels match the line color.\n",
    "ax1.set_ylabel('Temperature', color=color_blind_list[0])\n",
    "for tl in ax1.get_yticklabels():\n",
    "    tl.set_color(color_blind_list[0])\n",
    "plt.legend()\n",
    "\n",
    "plt.xticks(rotation=45)\n",
    "\n",
    "ax2 = ax1.twinx()\n",
    "ax2.plot(day_ts, '-', color=color_blind_list[1], label='Global active power')\n",
    "ax2.set_ylabel('Global active power', color=color_blind_list[1])\n",
    "for tl in ax2.get_yticklabels():\n",
    "    tl.set_color(color_blind_list[1])\n",
    "plt.legend()\n",
    "plt.show()"
   ]
  },
  {
   "cell_type": "code",
   "execution_count": null,
   "metadata": {
    "collapsed": false
   },
   "outputs": [],
   "source": [
    "small_temp_ts.head()"
   ]
  },
  {
   "cell_type": "markdown",
   "metadata": {},
   "source": [
    "## Question 7:\n",
    "On considère maintenant le jeu de données ```airparifabae1bd78def4fe8a409ab8c95fc4608.zip```.\n",
    "Proposer une visualisation de la pollution par année."
   ]
  },
  {
   "cell_type": "code",
   "execution_count": null,
   "metadata": {
    "collapsed": false
   },
   "outputs": [],
   "source": [
    "my_file ='../datasets/20080421_20160927-PA13_auto.csv'\n",
    "polution_df = pd.read_csv(my_file, sep=';',\n",
    "                          comment='#', na_values=\"n/d\",\n",
    "                          converters={'heure': str})\n",
    "\n",
    "# check issues with 24:00:\n",
    "# https://www.tutorialspoint.com/python/time_strptime.htm\n",
    "\n",
    "polution_df['heure'] = polution_df['heure'].replace('24', '0')\n",
    "time_improved = pd.to_datetime(polution_df['date'] +\n",
    "                               ' ' + polution_df['heure'] + ':00',\n",
    "                               format='%d/%m/%Y %H:%M')\n",
    "\n",
    "\n",
    "polution_df['DateTime'] = time_improved\n",
    "del polution_df['heure']\n",
    "del polution_df['date']\n",
    "\n",
    "polution_ts = polution_df.set_index(['DateTime'])\n",
    "polution_ts = polution_ts.sort_index()"
   ]
  },
  {
   "cell_type": "code",
   "execution_count": null,
   "metadata": {
    "collapsed": false
   },
   "outputs": [],
   "source": [
    "fig1 = plt.figure(figsize=(8,3))\n",
    "plt.plot(polution_ts['O3'])\n",
    "plt.legend()\n",
    "plt.title('Polution over the years in Paris')\n",
    "plt.show()"
   ]
  },
  {
   "cell_type": "markdown",
   "metadata": {},
   "source": [
    "# Question 8:\n",
    " Proposer une visualisation de la pollution la plus critique par année pour l'ozone et pour pour le\n",
    "dioxyde d'azote."
   ]
  },
  {
   "cell_type": "code",
   "execution_count": null,
   "metadata": {
    "collapsed": false
   },
   "outputs": [],
   "source": [
    "year_ts_mean = polution_ts.groupby(polution_ts.index.year).mean()\n",
    "year_ts_mean.index.name = 'year'\n",
    "year_ts_mean = year_ts_mean.reset_index()\n",
    "year_ts_mean['year'] = pd.to_datetime(year_ts_mean['year'], format='%Y')\n",
    "final_year_ts_mean = year_ts_mean.set_index(['year'])\n",
    "\n",
    "year_ts_max = polution_ts.groupby(polution_ts.index.year).max()\n",
    "year_ts_max.index.name = 'year'\n",
    "year_ts_max = year_ts_max.reset_index()\n",
    "year_ts_max['year'] = pd.to_datetime(year_ts_max['year'], format='%Y')\n",
    "final_year_ts_max = year_ts_max.set_index(['year'])\n",
    "\n",
    "fig3 = plt.figure(figsize=(8,3))\n",
    "plt.plot(year_ts_mean['year'],year_ts_mean['O3'])\n",
    "plt.title('Average polution')\n",
    "plt.legend()\n",
    "plt.show()\n",
    "\n",
    "fig3 = plt.figure(figsize=(8,3))\n",
    "plt.plot(year_ts_max['year'],year_ts_max['O3'])\n",
    "plt.title('Peak polution')\n",
    "plt.legend()\n",
    "plt.show()"
   ]
  },
  {
   "cell_type": "markdown",
   "metadata": {},
   "source": [
    "## Question 9:\n",
    "Donner une représentation par mois de la pollution. Quel est le mois le plus pollué pour l'ozone, pour le dioxyde de souffre?"
   ]
  },
  {
   "cell_type": "code",
   "execution_count": null,
   "metadata": {
    "collapsed": false
   },
   "outputs": [],
   "source": [
    "# study month-wide\n",
    "month_ts = polution_ts.groupby(polution_ts.index.month).mean()\n",
    "month_ts.index.name = 'month'\n",
    "month_ts = month_ts.reset_index()\n",
    "\n",
    "fig3 = plt.figure()\n",
    "plt.plot(month_ts['O3'])\n",
    "plt.plot(month_ts['NO2'])\n",
    "plt.xticks(range(0, 12), ['Jan', 'Feb', 'Mar', 'Apr', 'May', 'Jun',\n",
    "           'Jul', 'Aug', 'Sep', 'Oct', 'Nov', 'Dec'], rotation=45)\n",
    "plt.legend()\n",
    "plt.show()"
   ]
  },
  {
   "cell_type": "markdown",
   "metadata": {},
   "source": [
    "Conclusion: pour l'ozone le mois le pire est le mois de mai et pour le dioxyde de soufre le mois janvier."
   ]
  }
 ],
 "metadata": {
  "kernelspec": {
   "display_name": "Python 3",
   "language": "python",
   "name": "python3"
  },
  "language_info": {
   "codemirror_mode": {
    "name": "ipython",
    "version": 3
   },
   "file_extension": ".py",
   "mimetype": "text/x-python",
   "name": "python",
   "nbconvert_exporter": "python",
   "pygments_lexer": "ipython3",
   "version": "3.5.1"
  }
 },
 "nbformat": 4,
 "nbformat_minor": 0
}
