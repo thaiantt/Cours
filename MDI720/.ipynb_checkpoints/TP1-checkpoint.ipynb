{
 "cells": [
  {
   "cell_type": "markdown",
   "metadata": {
    "collapsed": true
   },
   "source": [
    "# TP n°1"
   ]
  },
  {
   "cell_type": "code",
   "execution_count": 2,
   "metadata": {
    "collapsed": true
   },
   "outputs": [],
   "source": [
    "import math \n",
    "import numpy as np\n",
    "from sklearn import linear_model\n",
    "from os import mkdir"
   ]
  },
  {
   "cell_type": "markdown",
   "metadata": {},
   "source": [
    "## INTRODUCTION A PYTHON, NUMPY ET SCIPY"
   ]
  },
  {
   "cell_type": "markdown",
   "metadata": {},
   "source": [
    "### Question 1"
   ]
  },
  {
   "cell_type": "code",
   "execution_count": 3,
   "metadata": {
    "collapsed": false
   },
   "outputs": [],
   "source": [
    "# Computes the first power of 2 greater than (or equal to) the input\n",
    "def nextpower(n):\n",
    "    try:\n",
    "        if not np.isfinite(n):\n",
    "            raise ValueError\n",
    "        power = 0\n",
    "        while n > 2**(power):\n",
    "            power += 1\n",
    "        return 2**power, type(2**power) \n",
    "    except ValueError: \n",
    "        print('The input must be a finite number !')\n",
    "    "
   ]
  },
  {
   "cell_type": "code",
   "execution_count": 4,
   "metadata": {
    "collapsed": false
   },
   "outputs": [
    {
     "name": "stdout",
     "output_type": "stream",
     "text": [
      "(1, <class 'int'>)\n",
      "(2, <class 'int'>)\n",
      "(16, <class 'int'>)\n",
      "(32, <class 'int'>)\n",
      "The input must be a finite number !\n",
      "None\n"
     ]
    }
   ],
   "source": [
    "# Test\n",
    "print(nextpower(1))\n",
    "print(nextpower(2))\n",
    "print(nextpower(10))\n",
    "print(nextpower(32))\n",
    "print(nextpower(np.inf))"
   ]
  },
  {
   "cell_type": "markdown",
   "metadata": {},
   "source": [
    "### Question 2"
   ]
  },
  {
   "cell_type": "code",
   "execution_count": 5,
   "metadata": {
    "collapsed": false
   },
   "outputs": [],
   "source": [
    "# Starting with a word containing the entire alphabet, generate slicing\n",
    "# operations to generate the chain \"cfilorux\"\n",
    "alphabet = 'abcdefghijklmnopqrstuvwxyz'\n",
    "def slice_alphabet(start, it):\n",
    "    output = alphabet[start::it]\n",
    "    return output"
   ]
  },
  {
   "cell_type": "code",
   "execution_count": 6,
   "metadata": {
    "collapsed": false
   },
   "outputs": [
    {
     "name": "stdout",
     "output_type": "stream",
     "text": [
      "cfilorux\n",
      "vxz\n"
     ]
    }
   ],
   "source": [
    "# Test\n",
    "print(slice_alphabet(2, 3))\n",
    "print(slice_alphabet(21, 2))"
   ]
  },
  {
   "cell_type": "markdown",
   "metadata": {},
   "source": [
    "### Question 3"
   ]
  },
  {
   "cell_type": "code",
   "execution_count": 7,
   "metadata": {
    "collapsed": false
   },
   "outputs": [
    {
     "name": "stdout",
     "output_type": "stream",
     "text": [
      "3.141592654\n"
     ]
    }
   ],
   "source": [
    "# Print pi with 9 decimals\n",
    "import math\n",
    "\n",
    "def round_number(val):\n",
    "    return round(val, 9)\n",
    "\n",
    "# Test\n",
    "print(round_number(math.pi))"
   ]
  },
  {
   "cell_type": "markdown",
   "metadata": {},
   "source": [
    "### Question 4"
   ]
  },
  {
   "cell_type": "code",
   "execution_count": 8,
   "metadata": {
    "collapsed": false
   },
   "outputs": [
    {
     "name": "stdout",
     "output_type": "stream",
     "text": [
      "{'L': 2, 'd': 1, 'r': 1, 'o': 2, 'l': 1, 'e': 1, 'H': 1, 'W': 1}\n"
     ]
    }
   ],
   "source": [
    "# Count occurences\n",
    "hello_world=\"HelLo WorLd\"\n",
    "\n",
    "output = dict()\n",
    "for charact in hello_world:\n",
    "    if charact is not ' ':\n",
    "        if charact not in output.keys():\n",
    "            output[charact] = 0\n",
    "        output[charact] += 1\n",
    "    \n",
    "print(output)"
   ]
  },
  {
   "cell_type": "markdown",
   "metadata": {},
   "source": [
    "### Question 5"
   ]
  },
  {
   "cell_type": "code",
   "execution_count": 9,
   "metadata": {
    "collapsed": false
   },
   "outputs": [],
   "source": [
    "# Letters inversion\n",
    "def inverse(word):\n",
    "    print(word) # TODO"
   ]
  },
  {
   "cell_type": "markdown",
   "metadata": {},
   "source": [
    "### Question 6"
   ]
  },
  {
   "cell_type": "code",
   "execution_count": 10,
   "metadata": {
    "collapsed": false
   },
   "outputs": [
    {
     "name": "stdout",
     "output_type": "stream",
     "text": [
      "--- 0.00017905235290527344 seconds ---\n",
      "3.133709146\n",
      "--- 0.24532008171081543 seconds ---\n",
      "3.1415848\n"
     ]
    }
   ],
   "source": [
    "# Compute a limit\n",
    "import time\n",
    "## First method : using loops\n",
    "def wallis_first(n):\n",
    "    start_time = time.time()\n",
    "    \n",
    "    pi = 0.0   \n",
    "    for i in range(1, n):\n",
    "        x = 4 * (i ** 2)\n",
    "        y = x - 1\n",
    "        z = float(x) / float(y)\n",
    "        if (i == 1):\n",
    "            pi = z\n",
    "        else:\n",
    "            pi *= z\n",
    "    pi *= 2\n",
    "    print(\"--- %s seconds ---\" % (time.time() - start_time))\n",
    "    return pi\n",
    "\n",
    "print(round_number(wallis_first(100)))\n",
    "print(round_number(wallis_first(100000)))"
   ]
  },
  {
   "cell_type": "code",
   "execution_count": 11,
   "metadata": {
    "collapsed": false
   },
   "outputs": [
    {
     "name": "stdout",
     "output_type": "stream",
     "text": [
      "3.133709146\n",
      "3.1415848\n"
     ]
    }
   ],
   "source": [
    "## Second method : without using any loops\n",
    "def wallis_second(n):\n",
    "    A = np.arange(1, n)\n",
    "    up = 4 * A**2\n",
    "    down = 4 * A**2 - 1\n",
    "    \n",
    "    B = up/down\n",
    "    prod = np.prod(B)\n",
    "    \n",
    "    pi = 2 * prod\n",
    "    return pi\n",
    "    \n",
    "print(round_number(wallis_second(100)))\n",
    "print(round_number(wallis_second(100000)))"
   ]
  },
  {
   "cell_type": "markdown",
   "metadata": {},
   "source": [
    "### Question 7"
   ]
  },
  {
   "cell_type": "code",
   "execution_count": 12,
   "metadata": {
    "collapsed": true
   },
   "outputs": [],
   "source": [
    "# A sorting algorithm with a pivot value\n",
    "def quicksort(l1):\n",
    "    if len(l1) <= 1:\n",
    "        return l1\n",
    "    else:\n",
    "        pivot = l1.pop() # last element of the list l1\n",
    "        less = []\n",
    "        greater = []\n",
    "        for x in l1:\n",
    "            if x <= pivot:\n",
    "                less.append(x) # append x to less\n",
    "            else:\n",
    "                greater.append(x) # append x to greater\n",
    "        concat = quicksort(less) + [pivot] + quicksort(greater)\n",
    "        return concat"
   ]
  },
  {
   "cell_type": "code",
   "execution_count": 13,
   "metadata": {
    "collapsed": false
   },
   "outputs": [
    {
     "name": "stdout",
     "output_type": "stream",
     "text": [
      "[-2, 1, 3, 3, 5]\n"
     ]
    }
   ],
   "source": [
    "# Test quicksort function\n",
    "print(quicksort([-2, 3, 5, 1, 3]))"
   ]
  },
  {
   "cell_type": "markdown",
   "metadata": {},
   "source": [
    "### Question 8"
   ]
  },
  {
   "cell_type": "code",
   "execution_count": 14,
   "metadata": {
    "collapsed": false
   },
   "outputs": [
    {
     "name": "stdout",
     "output_type": "stream",
     "text": [
      "[[ 1.37894995  0.          0.85833892  0.          0.          0.16230784]\n",
      " [ 0.          0.52124295  0.78624944  0.          0.          0.59361255]\n",
      " [ 0.44459636  0.          1.45681327  0.          0.05987679  0.3021398 ]\n",
      " [ 0.          0.70868131  1.72333046  0.          0.          0.12089798]\n",
      " [ 0.          0.          0.15549222  0.37743659  0.          0.86753187]]\n"
     ]
    }
   ],
   "source": [
    "def compute_mat():\n",
    "    M = np.random.uniform(-1,1,(5,6))\n",
    "    #print(M)\n",
    "    \n",
    "    N = M[:, 1:]\n",
    "    #print(N)\n",
    "    \n",
    "    M[:, ::2] -= 2*N[:, ::2]\n",
    "    #print(M)\n",
    "    \n",
    "    M[M < 0] = 0\n",
    "    #print(M)\n",
    "    return M\n",
    "    \n",
    "print(compute_mat())"
   ]
  },
  {
   "cell_type": "markdown",
   "metadata": {},
   "source": [
    "### Question 9"
   ]
  },
  {
   "cell_type": "code",
   "execution_count": 15,
   "metadata": {
    "collapsed": false
   },
   "outputs": [
    {
     "name": "stdout",
     "output_type": "stream",
     "text": [
      "G is symetric : True\n",
      "[ -3.26009550e-15  -2.26830092e-15  -1.01155523e-15  -5.58227687e-16\n",
      "  -4.63983323e-16  -4.12808550e-16  -2.74470850e-16  -9.21485448e-17\n",
      "  -2.06642949e-18   1.33422370e-16   2.76791725e-16   3.16500361e-16\n",
      "   3.80560005e-16   7.06662635e-16   1.21323526e-15   2.31917543e+00\n",
      "   5.02670227e+00   6.23011342e+00   8.02269942e+00   1.36629005e+01]\n",
      "All eigenvalues are positive : False\n",
      "Rank : 5\n"
     ]
    }
   ],
   "source": [
    "def check_mat():\n",
    "    M = np.random.uniform(-1,1,(5,20))\n",
    "    G = np.dot(M.T, M)\n",
    "    \n",
    "    # Check if G is symetric\n",
    "    print('G is symetric : ' + str(np.allclose(G.T, G)))\n",
    "    \n",
    "    # Check if all eigenvalues are positive\n",
    "    eigval = np.linalg.eigvalsh(G)\n",
    "    print(eigval)\n",
    "    print('All eigenvalues are positive : ' + str(np.all(eigval > 0)))\n",
    "\n",
    "    # Matrix rank\n",
    "    print('Rank : ' + str(np.linalg.matrix_rank(G)))\n",
    "    \n",
    "check_mat()"
   ]
  },
  {
   "cell_type": "markdown",
   "metadata": {},
   "source": [
    "## INTRODUCTION A PANDAS, MATPLOTLIB, ETC"
   ]
  },
  {
   "cell_type": "code",
   "execution_count": 16,
   "metadata": {
    "collapsed": false
   },
   "outputs": [],
   "source": [
    "from os import path \n",
    "import pandas as pd\n",
    "import urllib\n",
    "import zipfile"
   ]
  },
  {
   "cell_type": "markdown",
   "metadata": {},
   "source": [
    "### Question 1"
   ]
  },
  {
   "cell_type": "code",
   "execution_count": 17,
   "metadata": {
    "collapsed": true
   },
   "outputs": [],
   "source": [
    "url = u'https://archive.ics.uci.edu/ml/machine-learning-databases/00235/'\n",
    "filename = 'household_power_consumption'\n",
    "zipfilename = filename + '.zip'\n",
    "Location = url + zipfilename\n",
    "if not(path.isfile(zipfilename)):\n",
    "    urllib.request.urlretrieve(Location, zipfilename)\n",
    "zip = zipfile.ZipFile(zipfilename)\n",
    "zip.extractall()\n",
    "na_values = ['?', '']\n",
    "fields = ['Date', 'Time', 'Global_active_power']\n",
    "df = pd.read_csv(filename + '.txt', sep=';', nrows=200000,\n",
    "               na_values=na_values, usecols=fields)"
   ]
  },
  {
   "cell_type": "code",
   "execution_count": 18,
   "metadata": {
    "collapsed": false,
    "scrolled": true
   },
   "outputs": [
    {
     "name": "stdout",
     "output_type": "stream",
     "text": [
      "              Date      Time  Global_active_power\n",
      "0       16/12/2006  17:24:00                4.216\n",
      "1       16/12/2006  17:25:00                5.360\n",
      "2       16/12/2006  17:26:00                5.374\n",
      "3       16/12/2006  17:27:00                5.388\n",
      "4       16/12/2006  17:28:00                3.666\n",
      "5       16/12/2006  17:29:00                3.520\n",
      "6       16/12/2006  17:30:00                3.702\n",
      "7       16/12/2006  17:31:00                3.700\n",
      "8       16/12/2006  17:32:00                3.668\n",
      "9       16/12/2006  17:33:00                3.662\n",
      "10      16/12/2006  17:34:00                4.448\n",
      "11      16/12/2006  17:35:00                5.412\n",
      "12      16/12/2006  17:36:00                5.224\n",
      "13      16/12/2006  17:37:00                5.268\n",
      "14      16/12/2006  17:38:00                4.054\n",
      "15      16/12/2006  17:39:00                3.384\n",
      "16      16/12/2006  17:40:00                3.270\n",
      "17      16/12/2006  17:41:00                3.430\n",
      "18      16/12/2006  17:42:00                3.266\n",
      "19      16/12/2006  17:43:00                3.728\n",
      "20      16/12/2006  17:44:00                5.894\n",
      "21      16/12/2006  17:45:00                7.706\n",
      "22      16/12/2006  17:46:00                7.026\n",
      "23      16/12/2006  17:47:00                5.174\n",
      "24      16/12/2006  17:48:00                4.474\n",
      "25      16/12/2006  17:49:00                3.248\n",
      "26      16/12/2006  17:50:00                3.236\n",
      "27      16/12/2006  17:51:00                3.228\n",
      "28      16/12/2006  17:52:00                3.258\n",
      "29      16/12/2006  17:53:00                3.178\n",
      "...            ...       ...                  ...\n",
      "199970    4/5/2007  14:14:00                0.312\n",
      "199971    4/5/2007  14:15:00                0.312\n",
      "199972    4/5/2007  14:16:00                0.312\n",
      "199973    4/5/2007  14:17:00                0.312\n",
      "199974    4/5/2007  14:18:00                0.266\n",
      "199975    4/5/2007  14:19:00                0.244\n",
      "199976    4/5/2007  14:20:00                0.244\n",
      "199977    4/5/2007  14:21:00                0.242\n",
      "199978    4/5/2007  14:22:00                0.242\n",
      "199979    4/5/2007  14:23:00                0.244\n",
      "199980    4/5/2007  14:24:00                0.244\n",
      "199981    4/5/2007  14:25:00                0.246\n",
      "199982    4/5/2007  14:26:00                0.244\n",
      "199983    4/5/2007  14:27:00                0.246\n",
      "199984    4/5/2007  14:28:00                0.242\n",
      "199985    4/5/2007  14:29:00                0.240\n",
      "199986    4/5/2007  14:30:00                0.240\n",
      "199987    4/5/2007  14:31:00                0.242\n",
      "199988    4/5/2007  14:32:00                0.242\n",
      "199989    4/5/2007  14:33:00                0.242\n",
      "199990    4/5/2007  14:34:00                0.242\n",
      "199991    4/5/2007  14:35:00                0.314\n",
      "199992    4/5/2007  14:36:00                0.352\n",
      "199993    4/5/2007  14:37:00                0.348\n",
      "199994    4/5/2007  14:38:00                0.348\n",
      "199995    4/5/2007  14:39:00                0.348\n",
      "199996    4/5/2007  14:40:00                0.344\n",
      "199997    4/5/2007  14:41:00                0.342\n",
      "199998    4/5/2007  14:42:00                0.340\n",
      "199999    4/5/2007  14:43:00                0.370\n",
      "\n",
      "[200000 rows x 3 columns]\n"
     ]
    }
   ],
   "source": [
    "print(df)"
   ]
  },
  {
   "cell_type": "markdown",
   "metadata": {},
   "source": [
    "### Question 2"
   ]
  },
  {
   "cell_type": "code",
   "execution_count": 19,
   "metadata": {
    "collapsed": false
   },
   "outputs": [
    {
     "name": "stdout",
     "output_type": "stream",
     "text": [
      "3732\n"
     ]
    }
   ],
   "source": [
    "# Number of lines with missing values\n",
    "print(df.isnull().any(axis=1).sum())"
   ]
  },
  {
   "cell_type": "code",
   "execution_count": 20,
   "metadata": {
    "collapsed": false
   },
   "outputs": [
    {
     "name": "stdout",
     "output_type": "stream",
     "text": [
      "196268\n"
     ]
    }
   ],
   "source": [
    "# Delete rows with missing values\n",
    "df = df.dropna(axis=0, how='any')\n",
    "print(len(df))"
   ]
  },
  {
   "cell_type": "markdown",
   "metadata": {},
   "source": [
    "### Question 3"
   ]
  },
  {
   "cell_type": "code",
   "execution_count": 21,
   "metadata": {
    "collapsed": false
   },
   "outputs": [
    {
     "name": "stdout",
     "output_type": "stream",
     "text": [
      "                           Date      Time  Global_active_power\n",
      "Datetime                                                      \n",
      "2006-12-16 17:24:00  16/12/2006  17:24:00                4.216\n",
      "2006-12-16 17:25:00  16/12/2006  17:25:00                5.360\n",
      "2006-12-16 17:26:00  16/12/2006  17:26:00                5.374\n",
      "2006-12-16 17:27:00  16/12/2006  17:27:00                5.388\n",
      "2006-12-16 17:28:00  16/12/2006  17:28:00                3.666\n",
      "2006-12-16 17:29:00  16/12/2006  17:29:00                3.520\n",
      "2006-12-16 17:30:00  16/12/2006  17:30:00                3.702\n",
      "2006-12-16 17:31:00  16/12/2006  17:31:00                3.700\n",
      "2006-12-16 17:32:00  16/12/2006  17:32:00                3.668\n",
      "2006-12-16 17:33:00  16/12/2006  17:33:00                3.662\n",
      "2006-12-16 17:34:00  16/12/2006  17:34:00                4.448\n",
      "2006-12-16 17:35:00  16/12/2006  17:35:00                5.412\n",
      "2006-12-16 17:36:00  16/12/2006  17:36:00                5.224\n",
      "2006-12-16 17:37:00  16/12/2006  17:37:00                5.268\n",
      "2006-12-16 17:38:00  16/12/2006  17:38:00                4.054\n",
      "2006-12-16 17:39:00  16/12/2006  17:39:00                3.384\n",
      "2006-12-16 17:40:00  16/12/2006  17:40:00                3.270\n",
      "2006-12-16 17:41:00  16/12/2006  17:41:00                3.430\n",
      "2006-12-16 17:42:00  16/12/2006  17:42:00                3.266\n",
      "2006-12-16 17:43:00  16/12/2006  17:43:00                3.728\n",
      "2006-12-16 17:44:00  16/12/2006  17:44:00                5.894\n",
      "2006-12-16 17:45:00  16/12/2006  17:45:00                7.706\n",
      "2006-12-16 17:46:00  16/12/2006  17:46:00                7.026\n",
      "2006-12-16 17:47:00  16/12/2006  17:47:00                5.174\n",
      "2006-12-16 17:48:00  16/12/2006  17:48:00                4.474\n",
      "2006-12-16 17:49:00  16/12/2006  17:49:00                3.248\n",
      "2006-12-16 17:50:00  16/12/2006  17:50:00                3.236\n",
      "2006-12-16 17:51:00  16/12/2006  17:51:00                3.228\n",
      "2006-12-16 17:52:00  16/12/2006  17:52:00                3.258\n",
      "2006-12-16 17:53:00  16/12/2006  17:53:00                3.178\n",
      "...                         ...       ...                  ...\n",
      "2007-05-04 14:14:00    4/5/2007  14:14:00                0.312\n",
      "2007-05-04 14:15:00    4/5/2007  14:15:00                0.312\n",
      "2007-05-04 14:16:00    4/5/2007  14:16:00                0.312\n",
      "2007-05-04 14:17:00    4/5/2007  14:17:00                0.312\n",
      "2007-05-04 14:18:00    4/5/2007  14:18:00                0.266\n",
      "2007-05-04 14:19:00    4/5/2007  14:19:00                0.244\n",
      "2007-05-04 14:20:00    4/5/2007  14:20:00                0.244\n",
      "2007-05-04 14:21:00    4/5/2007  14:21:00                0.242\n",
      "2007-05-04 14:22:00    4/5/2007  14:22:00                0.242\n",
      "2007-05-04 14:23:00    4/5/2007  14:23:00                0.244\n",
      "2007-05-04 14:24:00    4/5/2007  14:24:00                0.244\n",
      "2007-05-04 14:25:00    4/5/2007  14:25:00                0.246\n",
      "2007-05-04 14:26:00    4/5/2007  14:26:00                0.244\n",
      "2007-05-04 14:27:00    4/5/2007  14:27:00                0.246\n",
      "2007-05-04 14:28:00    4/5/2007  14:28:00                0.242\n",
      "2007-05-04 14:29:00    4/5/2007  14:29:00                0.240\n",
      "2007-05-04 14:30:00    4/5/2007  14:30:00                0.240\n",
      "2007-05-04 14:31:00    4/5/2007  14:31:00                0.242\n",
      "2007-05-04 14:32:00    4/5/2007  14:32:00                0.242\n",
      "2007-05-04 14:33:00    4/5/2007  14:33:00                0.242\n",
      "2007-05-04 14:34:00    4/5/2007  14:34:00                0.242\n",
      "2007-05-04 14:35:00    4/5/2007  14:35:00                0.314\n",
      "2007-05-04 14:36:00    4/5/2007  14:36:00                0.352\n",
      "2007-05-04 14:37:00    4/5/2007  14:37:00                0.348\n",
      "2007-05-04 14:38:00    4/5/2007  14:38:00                0.348\n",
      "2007-05-04 14:39:00    4/5/2007  14:39:00                0.348\n",
      "2007-05-04 14:40:00    4/5/2007  14:40:00                0.344\n",
      "2007-05-04 14:41:00    4/5/2007  14:41:00                0.342\n",
      "2007-05-04 14:42:00    4/5/2007  14:42:00                0.340\n",
      "2007-05-04 14:43:00    4/5/2007  14:43:00                0.370\n",
      "\n",
      "[196268 rows x 3 columns]\n"
     ]
    }
   ],
   "source": [
    "# Create a datetime column in the DataFrame df \n",
    "df['Datetime'] = df['Date'] + ' ' + df['Time']\n",
    "df['Datetime'] = pd.to_datetime(df['Datetime'], format='%d/%m/%Y %H:%M:%S')\n",
    "\n",
    "# Set df indices to Datetime\n",
    "df_formatted = df.set_index('Datetime')\n",
    "\n",
    "print(df_formatted)"
   ]
  },
  {
   "cell_type": "markdown",
   "metadata": {},
   "source": [
    "### Question 4"
   ]
  },
  {
   "cell_type": "code",
   "execution_count": 22,
   "metadata": {
    "collapsed": false
   },
   "outputs": [],
   "source": [
    "%matplotlib inline\n",
    "import matplotlib.pyplot as plt\n",
    "plt.style.use('ggplot')"
   ]
  },
  {
   "cell_type": "code",
   "execution_count": 23,
   "metadata": {
    "collapsed": false
   },
   "outputs": [
    {
     "name": "stdout",
     "output_type": "stream",
     "text": [
      "                          Date      Time  Global_active_power\n",
      "Datetime                                                     \n",
      "2007-01-01 00:00:00   1/1/2007  00:00:00                2.580\n",
      "2007-01-01 00:01:00   1/1/2007  00:01:00                2.552\n",
      "2007-01-01 00:02:00   1/1/2007  00:02:00                2.550\n",
      "2007-01-01 00:03:00   1/1/2007  00:03:00                2.550\n",
      "2007-01-01 00:04:00   1/1/2007  00:04:00                2.554\n",
      "2007-01-01 00:05:00   1/1/2007  00:05:00                2.550\n",
      "2007-01-01 00:06:00   1/1/2007  00:06:00                2.534\n",
      "2007-01-01 00:07:00   1/1/2007  00:07:00                2.484\n",
      "2007-01-01 00:08:00   1/1/2007  00:08:00                2.468\n",
      "2007-01-01 00:09:00   1/1/2007  00:09:00                2.486\n",
      "2007-01-01 00:10:00   1/1/2007  00:10:00                2.492\n",
      "2007-01-01 00:11:00   1/1/2007  00:11:00                2.500\n",
      "2007-01-01 00:12:00   1/1/2007  00:12:00                2.494\n",
      "2007-01-01 00:13:00   1/1/2007  00:13:00                2.492\n",
      "2007-01-01 00:14:00   1/1/2007  00:14:00                2.480\n",
      "2007-01-01 00:15:00   1/1/2007  00:15:00                2.478\n",
      "2007-01-01 00:16:00   1/1/2007  00:16:00                2.470\n",
      "2007-01-01 00:17:00   1/1/2007  00:17:00                2.466\n",
      "2007-01-01 00:18:00   1/1/2007  00:18:00                2.456\n",
      "2007-01-01 00:19:00   1/1/2007  00:19:00                2.460\n",
      "2007-01-01 00:20:00   1/1/2007  00:20:00                2.544\n",
      "2007-01-01 00:21:00   1/1/2007  00:21:00                2.550\n",
      "2007-01-01 00:22:00   1/1/2007  00:22:00                2.554\n",
      "2007-01-01 00:23:00   1/1/2007  00:23:00                2.650\n",
      "2007-01-01 00:24:00   1/1/2007  00:24:00                2.682\n",
      "2007-01-01 00:25:00   1/1/2007  00:25:00                2.660\n",
      "2007-01-01 00:26:00   1/1/2007  00:26:00                2.650\n",
      "2007-01-01 00:27:00   1/1/2007  00:27:00                2.654\n",
      "2007-01-01 00:28:00   1/1/2007  00:28:00                2.642\n",
      "2007-01-01 00:29:00   1/1/2007  00:29:00                2.644\n",
      "...                        ...       ...                  ...\n",
      "2007-04-30 23:30:00  30/4/2007  23:30:00                0.332\n",
      "2007-04-30 23:31:00  30/4/2007  23:31:00                0.330\n",
      "2007-04-30 23:32:00  30/4/2007  23:32:00                0.330\n",
      "2007-04-30 23:33:00  30/4/2007  23:33:00                0.330\n",
      "2007-04-30 23:34:00  30/4/2007  23:34:00                0.330\n",
      "2007-04-30 23:35:00  30/4/2007  23:35:00                0.330\n",
      "2007-04-30 23:36:00  30/4/2007  23:36:00                0.270\n",
      "2007-04-30 23:37:00  30/4/2007  23:37:00                0.264\n",
      "2007-04-30 23:38:00  30/4/2007  23:38:00                0.264\n",
      "2007-04-30 23:39:00  30/4/2007  23:39:00                0.264\n",
      "2007-04-30 23:40:00  30/4/2007  23:40:00                0.264\n",
      "2007-04-30 23:41:00  30/4/2007  23:41:00                0.264\n",
      "2007-04-30 23:42:00  30/4/2007  23:42:00                0.266\n",
      "2007-04-30 23:43:00  30/4/2007  23:43:00                0.266\n",
      "2007-04-30 23:44:00  30/4/2007  23:44:00                0.342\n",
      "2007-04-30 23:45:00  30/4/2007  23:45:00                0.372\n",
      "2007-04-30 23:46:00  30/4/2007  23:46:00                0.370\n",
      "2007-04-30 23:47:00  30/4/2007  23:47:00                0.368\n",
      "2007-04-30 23:48:00  30/4/2007  23:48:00                0.366\n",
      "2007-04-30 23:49:00  30/4/2007  23:49:00                0.364\n",
      "2007-04-30 23:50:00  30/4/2007  23:50:00                0.364\n",
      "2007-04-30 23:51:00  30/4/2007  23:51:00                0.364\n",
      "2007-04-30 23:52:00  30/4/2007  23:52:00                0.364\n",
      "2007-04-30 23:53:00  30/4/2007  23:53:00                0.362\n",
      "2007-04-30 23:54:00  30/4/2007  23:54:00                0.362\n",
      "2007-04-30 23:55:00  30/4/2007  23:55:00                0.362\n",
      "2007-04-30 23:56:00  30/4/2007  23:56:00                0.362\n",
      "2007-04-30 23:57:00  30/4/2007  23:57:00                0.362\n",
      "2007-04-30 23:58:00  30/4/2007  23:58:00                0.358\n",
      "2007-04-30 23:59:00  30/4/2007  23:59:00                0.356\n",
      "\n",
      "[169072 rows x 3 columns]\n"
     ]
    }
   ],
   "source": [
    "selection = df_formatted.loc['2007-01-01 00:00:00':'2007-04-30 23:59:00']\n",
    "print(selection)\n",
    "x = selection.index.values\n",
    "y = selection['Global_active_power']"
   ]
  },
  {
   "cell_type": "code",
   "execution_count": 24,
   "metadata": {
    "collapsed": false
   },
   "outputs": [
    {
     "data": {
      "image/png": "[encoded data removed]",
      "text/plain": [
       "<matplotlib.figure.Figure at 0x115f42ef0>"
      ]
     },
     "metadata": {},
     "output_type": "display_data"
    }
   ],
   "source": [
    "plt.plot(x, y, linewidth=2)\n",
    "plt.xticks(rotation=45)\n",
    "plt.show()"
   ]
  },
  {
   "cell_type": "markdown",
   "metadata": {
    "collapsed": true
   },
   "source": []
  },
  {
   "cell_type": "markdown",
   "metadata": {},
   "source": [
    "### Question 5"
   ]
  },
  {
   "cell_type": "code",
   "execution_count": 29,
   "metadata": {
    "collapsed": false
   },
   "outputs": [],
   "source": [
    "df_tg = pd.read_table('/Users/thaianthantrong/Documents/MS_Big_Data/Cours/Statistiques/TGSTAID011249.txt', sep=\",\", comment='#')"
   ]
  },
  {
   "cell_type": "code",
   "execution_count": null,
   "metadata": {
    "collapsed": true
   },
   "outputs": [],
   "source": []
  }
 ],
 "metadata": {
  "kernelspec": {
   "display_name": "Python 3",
   "language": "python",
   "name": "python3"
  },
  "language_info": {
   "codemirror_mode": {
    "name": "ipython",
    "version": 3
   },
   "file_extension": ".py",
   "mimetype": "text/x-python",
   "name": "python",
   "nbconvert_exporter": "python",
   "pygments_lexer": "ipython3",
   "version": "3.5.1"
  }
 },
 "nbformat": 4,
 "nbformat_minor": 0
}
